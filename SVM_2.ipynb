{
 "cells": [
  {
   "cell_type": "markdown",
   "id": "e83c18f6",
   "metadata": {},
   "source": [
    "## Parámetros para la base de datos"
   ]
  },
  {
   "cell_type": "code",
   "execution_count": null,
   "id": "c1271daa",
   "metadata": {},
   "outputs": [],
   "source": [
    "import numpy as np\n",
    "import tifffile\n",
    "import os\n",
    "\n",
    "# Ruta de las imágenes\n",
    "ruta_imagenes = \"D:\\BDnormalizada\"\n",
    "\n",
    "# Umbral para determinar si una imagen es \"enferma\"\n",
    "umbral = 0.5  \n",
    "\n",
    "# Recorrer todas las imágenes en la carpeta\n",
    "for imagen_nombre in os.listdir(ruta_imagenes):\n",
    "    # Leer la imagen\n",
    "    imagen_tif = tifffile.imread(os.path.join(ruta_imagenes, imagen_nombre))\n",
    "\n",
    "    # Normalizar la imagen\n",
    "    imagen_normalizada = imagen_tif.astype(np.float32) / np.iinfo(imagen_tif.dtype).max\n",
    "        \n",
    "    # Determinar la etiqueta según la imagen normalizada\n",
    "    if np.any(imagen_normalizada > umbral):\n",
    "        print('-'*50)\n",
    "        print(f'{imagen_nombre}: Cultivo enfermo')\n",
    "        print(np.max(imagen_normalizada))\n",
    "        print('-'*50)\n",
    "    else:\n",
    "        print('-'*50)\n",
    "        print(f'{imagen_nombre}: Cultivo sano')\n",
    "        print(np.max(imagen_normalizada))\n",
    "        print('-'*50)\n",
    "        "
   ]
  },
  {
   "cell_type": "markdown",
   "id": "5cd891ab",
   "metadata": {},
   "source": [
    "## Librerías"
   ]
  },
  {
   "cell_type": "code",
   "execution_count": null,
   "id": "f1b4b39f",
   "metadata": {},
   "outputs": [],
   "source": [
    "import os\n",
    "import numpy as np\n",
    "import cv2\n",
    "import matplotlib.pyplot as plt\n",
    "import pickle\n",
    "import random\n",
    "from sklearn.model_selection import train_test_split\n",
    "from sklearn.svm import SVC\n",
    "from tkinter import Tk, Label, Button, Frame, filedialog, Entry\n",
    "from PIL import ImageTk, Image\n",
    "import numpy as np"
   ]
  },
  {
   "cell_type": "markdown",
   "id": "330ae8b6",
   "metadata": {},
   "source": [
    "## Creación de la base de datos"
   ]
  },
  {
   "cell_type": "code",
   "execution_count": null,
   "id": "5bc05dd5",
   "metadata": {},
   "outputs": [],
   "source": [
    "# Directorio de la carpeta imágenes\n",
    "dir = \"D:\\BDnormalizada\"\n",
    "Catg = ['CULTIVO ENFERMO', 'CULTIVO SANO']\n",
    "data = []\n",
    "\n",
    "for category in Catg:\n",
    "    path = os.path.join(dir, category)\n",
    "    label = Catg.index(category)\n",
    "    \n",
    "    for img in os.listdir(path):\n",
    "        imgpath = os.path.join(path, img)\n",
    "        Br_img = cv2.imread(imgpath, 0)\n",
    "        try:\n",
    "            Br_img = cv2.resize(Br_img, (50, 50))\n",
    "            image = np.array(Br_img).flatten()\n",
    "            imagen_normalizada = image.astype(np.float32) / np.iinfo(image.dtype).max\n",
    "            data.append([imagen_normalizada, label])\n",
    "        except Exception as e:\n",
    "            pass\n",
    "\n",
    "print(len(data))\n",
    "\n",
    "pick_in = open('BDnormalizada.pickle', 'wb')\n",
    "pickle.dump(data, pick_in)\n",
    "pick_in.close()"
   ]
  },
  {
   "cell_type": "markdown",
   "id": "c750a720",
   "metadata": {},
   "source": [
    "## Entrenamiento del modelo"
   ]
  },
  {
   "cell_type": "code",
   "execution_count": null,
   "id": "2e795fe2",
   "metadata": {},
   "outputs": [],
   "source": [
    "pick_in = open('BDnormalizada.pickle', 'rb')\n",
    "data = pickle.load(pick_in)\n",
    "pick_in.close()\n",
    "\n",
    "data_ab = data\n",
    "\n",
    "random.shuffle(data)\n",
    "features = []\n",
    "labels = []\n",
    "\n",
    "for feature, label in data:\n",
    "    features.append(feature)\n",
    "    labels.append(label)\n",
    "\n",
    "Catg = ['CULTIVO ENFERMO', 'CULTIVO SANO']\n",
    "\n",
    "\n",
    "xtrain, xtest, ytrain, ytest = train_test_split(\n",
    "    features, labels, test_size=0.7)\n",
    "\n",
    "model = SVC(C=100, kernel='poly', gamma=1)\n",
    "model.fit(xtrain, ytrain)\n",
    "\n",
    "pick = open('modelo.sav', 'wb')\n",
    "pickle.dump(model, pick)\n",
    "pick.close()"
   ]
  },
  {
   "cell_type": "markdown",
   "id": "98a5f4c9",
   "metadata": {},
   "source": [
    "## Predicciones usando la bd de entrenamiento"
   ]
  },
  {
   "cell_type": "code",
   "execution_count": null,
   "id": "e80e1d2b",
   "metadata": {},
   "outputs": [],
   "source": [
    "pick = open('modelo.sav', 'rb')\n",
    "model = pickle.load(pick)\n",
    "pick.close()\n",
    "\n",
    "prediction = model.predict(xtest)\n",
    "accuracy = model.score(xtest, ytest)\n",
    "\n",
    "categories = ['CULTIVO ENFERMO', 'CULTIVO SANO']\n",
    "\n",
    "print('Accuracy: ', accuracy)\n",
    "print('prediction is: ', categories[prediction[0]])\n",
    "\n",
    "mypet = xtest[0].reshape(50,50)\n",
    "plt.imshow(mypet, cmap='gray')\n",
    "plt.show()"
   ]
  },
  {
   "cell_type": "markdown",
   "id": "880a2d8d",
   "metadata": {},
   "source": [
    "## Predicciones con una nueva imagen"
   ]
  },
  {
   "cell_type": "code",
   "execution_count": null,
   "id": "5613f690",
   "metadata": {},
   "outputs": [],
   "source": [
    "# Cargar la nueva imagen\n",
    "new_img_path = \"D:\\IMAGENES\\DJI_20230606111754_0001_MS_NIR.TIF\"\n",
    "\n",
    "# Cargar en escala de grises\n",
    "flattened_img = cv2.imread(new_img_path, 0) \n",
    "\n",
    "# Procesar la imagen\n",
    "try:\n",
    "    resized_img = cv2.resize(flattened_img, (50, 50))\n",
    "    flattened_img = np.array(resized_img).flatten()\n",
    "    imagen_normalizada = flattened_img.astype(np.float32) / np.iinfo(flattened_img.dtype).max\n",
    "except Exception as e:\n",
    "    pass\n",
    "\n",
    "# Cargar el modelo SVM\n",
    "pick = open('modelo.sav', 'rb')\n",
    "model = pickle.load(pick)\n",
    "pick.close()\n",
    "\n",
    "# Predecir la categoría de la nueva imagen\n",
    "prediction = model.predict([imagen_normalizada])\n",
    "\n",
    "\n",
    "# Mostrar la predicción\n",
    "categories = ['CULTIVO ENFERMO', 'CULTIVO SANO']\n",
    "print('La nueva imagen pertenece a la categoría:', categories[prediction[0]])\n",
    "\n",
    "# Mostrar la nueva imagen\n",
    "plt.imshow(resized_img, cmap='gray')\n",
    "plt.show()"
   ]
  }
 ],
 "metadata": {
  "kernelspec": {
   "display_name": "Python 3 (ipykernel)",
   "language": "python",
   "name": "python3"
  },
  "language_info": {
   "codemirror_mode": {
    "name": "ipython",
    "version": 3
   },
   "file_extension": ".py",
   "mimetype": "text/x-python",
   "name": "python",
   "nbconvert_exporter": "python",
   "pygments_lexer": "ipython3",
   "version": "3.9.7"
  }
 },
 "nbformat": 4,
 "nbformat_minor": 5
}
