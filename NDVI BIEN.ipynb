{
 "cells": [
  {
   "cell_type": "code",
   "execution_count": 21,
   "metadata": {},
   "outputs": [
    {
     "name": "stdout",
     "output_type": "stream",
     "text": [
      "Archivos: ['another', 'DJI_20231004102555_0001_D (3).JPG', 'DJI_20231004102555_0001_MS_G.TIF', 'DJI_20231004102555_0001_MS_NIR.TIF', 'DJI_20231004102555_0001_MS_R.TIF', 'DJI_20231004102555_0001_MS_RE.TIF']\n",
      "No se pudo cargar la imagen.\n"
     ]
    }
   ],
   "source": [
    "import matplotlib.pyplot as plt \n",
    "import os\n",
    "import cv2\n",
    "import numpy as np\n",
    "\n",
    "#directorio\n",
    "directorio = r'C:\\Users\\PC ITEC\\Documents\\AGROSAVIA 2024\\PROCESANDO IMAGENES'\n",
    "os.chdir(directorio)\n",
    "\n",
    "# Archivos en el directorio\n",
    "archivos = os.listdir(directorio)\n",
    "print(\"Archivos:\", archivos)\n",
    "\n",
    "# Lee la imagen\n",
    "imagenprueba = cv2.imread('DJI_20231004102555_0001_D.JPG', cv2.IMREAD_UNCHANGED)\n",
    "\n",
    "\n",
    "# Verifica si la imagen se cargó \n",
    "if imagenprueba is None:\n",
    "    print(\"No se pudo cargar la imagen.\")\n",
    "else:\n",
    "    # Verifica escala de grises--------si la imagen tiene solo 2 dimensiones (alto y ancho), entonces es en escala de grises\n",
    "    if len(imagenprueba.shape) == 2: \n",
    "        ndvi = np.zeros_like(imagenprueba, dtype=np.float32)  #matriz de ceros del mismo tamaño que la imagen\n",
    "        # En una imagen en escala de grises, no hay canales de color, por lo que no podemos calcular el NDVI.\n",
    "        print(\"La imagen está en escala de grises y no se puede calcular el NDVI.\")\n",
    "\n",
    "    elif len(imagenprueba.shape) == 3:  # Si la imagen tiene 3 dimensiones (alto, ancho y canales), entonces es a color\n",
    "        # Verifica si la imagen tiene los canales de rojo y NIR\n",
    "        if imagenprueba.shape[2] >= 4:  # Si la imagen tiene al menos 4 canales (incluyendo los canales de rojo y NIR)\n",
    "            # Extrae los canales de la imagen (rojo y NIR)\n",
    "            canal_rojo = imagenprueba[:, :, 2].astype(np.float32)\n",
    "            canal_nir = imagenprueba[:, :, 3].astype(np.float32)\n",
    "\n",
    "            # Calcula el NDVI\n",
    "            ndvi = ((canal_nir - canal_rojo)/(canal_nir + canal_rojo + 1e-6))\n",
    "            \n",
    "        else:\n",
    "            print(\"La imagen no tiene suficientes canales de color para calcular el NDVI.\")\n",
    "\n",
    "        # ndvi = np.zeros_like(imagenprueba, dtype=np.float32)  # matriz de ceros del mismo tamaño que la imagen\n",
    "         # Mostrar la imagen NDVI\n",
    "        plt.xticks([]), plt.yticks([])  \n",
    "        plt.imshow(ndvi, cmap='jet')\n",
    "        plt.colorbar(label='NDVI')\n",
    "        plt.title('NDVI Image')\n",
    "        plt.xticks([]), plt.yticks([])  \n",
    "        plt.show()\n"
   ]
  }
 ],
 "metadata": {
  "kernelspec": {
   "display_name": "Python 3",
   "language": "python",
   "name": "python3"
  },
  "language_info": {
   "codemirror_mode": {
    "name": "ipython",
    "version": 3
   },
   "file_extension": ".py",
   "mimetype": "text/x-python",
   "name": "python",
   "nbconvert_exporter": "python",
   "pygments_lexer": "ipython3",
   "version": "3.11.8"
  }
 },
 "nbformat": 4,
 "nbformat_minor": 2
}
